{
 "cells": [
  {
   "cell_type": "code",
   "execution_count": 1,
   "id": "508e5500-a6f3-4c63-8ee3-f074f9723b9a",
   "metadata": {},
   "outputs": [
    {
     "name": "stdout",
     "output_type": "stream",
     "text": [
      "Requirement already satisfied: SPARQLWrapper in /opt/conda/lib/python3.10/site-packages (2.0.0)\n",
      "Requirement already satisfied: rdflib>=6.1.1 in /opt/conda/lib/python3.10/site-packages (from SPARQLWrapper) (6.1.1)\n",
      "Requirement already satisfied: pyparsing in /opt/conda/lib/python3.10/site-packages (from rdflib>=6.1.1->SPARQLWrapper) (3.0.9)\n",
      "Requirement already satisfied: isodate in /opt/conda/lib/python3.10/site-packages (from rdflib>=6.1.1->SPARQLWrapper) (0.6.1)\n",
      "Requirement already satisfied: setuptools in /opt/conda/lib/python3.10/site-packages (from rdflib>=6.1.1->SPARQLWrapper) (63.1.0)\n",
      "Requirement already satisfied: six in /opt/conda/lib/python3.10/site-packages (from isodate->rdflib>=6.1.1->SPARQLWrapper) (1.16.0)\n"
     ]
    }
   ],
   "source": [
    "!pip install SPARQLWrapper\n",
    "from SPARQLWrapper import SPARQLWrapper, JSON\n",
    "import pandas as pd\n",
    "import shlex\n",
    "import timeit\n",
    "\n",
    "\n",
    "# Read the csv file\n",
    "data=open(\"100k.txt\",'r')"
   ]
  },
  {
   "cell_type": "code",
   "execution_count": 2,
   "id": "16c5dfd9-3a21-4e53-af34-4a02776b510b",
   "metadata": {},
   "outputs": [],
   "source": [
    "count=0\n",
    "tabels={}\n",
    "for x in data:\n",
    "    parameters = shlex.split(x, posix=False)\n",
    "    subject = parameters[0].split(\":\")\n",
    "    property = parameters[1].split(\":\")\n",
    "    object = parameters[2].split(\":\")\n",
    "    count=count+1\n",
    "    temp = []\n",
    "    # print(parameters)\n",
    "    if(property[1] in tabels):\n",
    "        temp = tabels[property[1]]\n",
    "    temp.append((subject[1], object[1] if len(object)>1 else object[0]))\n",
    "    tabels[property[1]]= temp\n",
    "\n",
    "\n",
    "# dict(sorted(tabels['follows']))\n",
    "file = open(\"TablesFormattedData.txt\", \"w\")\n",
    "file.write(str(tabels))\n",
    "\n",
    "file.close()\n",
    "data.close()"
   ]
  },
  {
   "cell_type": "code",
   "execution_count": 3,
   "id": "dff69f81-783f-490e-b19f-0eb3bfdf8056",
   "metadata": {},
   "outputs": [],
   "source": [
    "userLookupTable=tabels['userId']\n",
    "encodeUserIdDict ={}\n",
    "decodeUserIdDict = {}\n",
    "\n",
    "for x in userLookupTable:\n",
    "    encodeUserIdDict[x[0]]=int(x[1].split('\"')[1])\n",
    "    decodeUserIdDict[int(x[1].split('\"')[1])] = x[0]\n",
    "OldfollowTabel = tabels['follows']\n",
    "followTabel =[]\n",
    "for x in OldfollowTabel:\n",
    "    followTabel.append((x[0],x[1]))\n",
    "    \n",
    "OldfriendOfTabel = tabels['friendOf']\n",
    "friendOfTabel =[]\n",
    "for x in OldfriendOfTabel:\n",
    "    friendOfTabel.append((x[0],x[1]))\n",
    "OldlikesTabel = tabels['likes']\n",
    "likesTabel =[]\n",
    "for x in OldlikesTabel:\n",
    "    likesTabel.append((x[0],x[1]))\n",
    "reviewTabel = tabels['hasReview']"
   ]
  },
  {
   "cell_type": "code",
   "execution_count": 4,
   "id": "e5aaf3ef-0e9b-4a7c-b38b-cbb63741c143",
   "metadata": {},
   "outputs": [],
   "source": [
    "'''\n",
    "\n",
    "'''\n",
    "followTabelMergeJoin=followTabel\n",
    "friendOfTabelMergeJoin= friendOfTabel\n",
    "likesTabelMergeJoin = likesTabel\n",
    "reviewTabelMergeJoin = reviewTabel\n",
    "# Sort Merge Join\n"
   ]
  },
  {
   "cell_type": "code",
   "execution_count": 5,
   "id": "d971264d-46c4-4a7d-9ee5-fa618559a209",
   "metadata": {},
   "outputs": [],
   "source": [
    "count = 0\n",
    "\n",
    "\n",
    "def getValue(key,x):\n",
    "    return int(x.split(key)[1])\n",
    "\n",
    "def mergeFunction(table1, table2, key):\n",
    "    result =[]\n",
    "    table1lPtr=0\n",
    "    table2Ptr=0\n",
    "    ind=0\n",
    "    initialStart=-1\n",
    "    count=0\n",
    "    \n",
    "    while (table1lPtr < len(table1) and table2Ptr < len(table2)):\n",
    "        table1Content = table1[table1lPtr]\n",
    "        table1Subject = list(table1Content[0:len(table1Content)-1])\n",
    "        table1Object = table1Content[-1]\n",
    "\n",
    "        table2Content = table2[table2Ptr]\n",
    "        table2Subject = table2Content[0]\n",
    "        table2Object = table2Content[1]\n",
    "        if(str(table1Object).lower() == str(table2Subject).lower()):\n",
    "            result.append(tuple(table1Subject+[table1Object]+[table2Object]))\n",
    "            if(ind==0):\n",
    "                initialStart=table2Ptr\n",
    "                ind=1\n",
    "            table2Ptr = table2Ptr + 1\n",
    "        elif (getValue(key,table1Object) < getValue(key,table2Subject)):\n",
    "            table1lPtr = table1lPtr + 1\n",
    "            if(str(table1[table1lPtr][-1]).lower()==str(table1[table1lPtr-1][-1]).lower() and ind == 1):\n",
    "                table2Ptr = initialStart\n",
    "            ind=0\n",
    "        else:\n",
    "            table2Ptr = table2Ptr + 1\n",
    "            \n",
    "            \n",
    "    while(table1lPtr < len(table1)):\n",
    "        \n",
    "        table1lPtr = table1lPtr + 1\n",
    "        if(table1lPtr < len(table1)):\n",
    "            table1Content = table1[table1lPtr]\n",
    "            table1Subject = list(table1Content[0:len(table1Content)-1])\n",
    "            table1Object = table1Content[-1]\n",
    "\n",
    "            if(str(table1[table1lPtr][-1]).lower()==str(table1[table1lPtr-1][-1]).lower()):\n",
    "                table2Ptr = initialStart\n",
    "\n",
    "                table2Content = table2[table2Ptr]\n",
    "                table2Subject = table2Content[0]\n",
    "                table2Object = table2Content[1]\n",
    "\n",
    "                while(str(table1Object).lower() == str(table2Subject).lower()):\n",
    "\n",
    "                    result.append(tuple(table1Subject+[table1Object]+[table2Object]))\n",
    "\n",
    "                    table2Ptr = table2Ptr + 1\n",
    "                    if(table2Ptr < len(table2)):\n",
    "                        table2Content = table2[table2Ptr]\n",
    "                        table2Subject = table2Content[0]\n",
    "                        table2Object = table2Content[1]\n",
    "                    else:\n",
    "                        break\n",
    "        else:\n",
    "            break        \n",
    "            \n",
    "    return result"
   ]
  },
  {
   "cell_type": "code",
   "execution_count": 6,
   "id": "3c3ce41e-d7c2-4c68-b3f4-23bc363ed812",
   "metadata": {},
   "outputs": [
    {
     "name": "stdout",
     "output_type": "stream",
     "text": [
      "Time:  21.816362200001095\n"
     ]
    }
   ],
   "source": [
    "# 1st Step Sorting\n",
    "start = timeit.default_timer()\n",
    "followTabelMergeJoin=sorted(followTabelMergeJoin, key=lambda element: (int(element[-1].split('User')[1])))\n",
    "friendOfTabelMergeJoin = sorted(friendOfTabelMergeJoin, key =lambda element: (int(element[0].split('User')[1]),int(element[1].split('User')[1])))\n",
    "\n",
    "likesTabelMergeJoin = sorted(likesTabelMergeJoin,key = lambda element: (int(element[0].split('User')[1]),int(element[1].split('Product')[1])))\n",
    "reviewTabelMergeJoin = sorted(reviewTabelMergeJoin, key=lambda element: (int(element[0].split('Product')[1]), int(element[1].split('Review')[1])))\n",
    "\n",
    "\n",
    "## Merge Step for followTable and friendOfTabel\n",
    "key = 'User'\n",
    "result = mergeFunction(followTabelMergeJoin,friendOfTabelMergeJoin,key)\n",
    "result = sorted(result, key =lambda element: (int(element[-1].split(key)[1])))\n",
    "# print(len(result))\n",
    "### Merge Step for (friendOfTabel,followTable) and likesTabel\n",
    "result = mergeFunction(result,likesTabelMergeJoin,key)\n",
    "key = 'Product'\n",
    "### Merge Step for (friendOfTabel,followTable,likesTabel) and reviewTabel\n",
    "result = sorted(result, key =lambda element: (int(element[-1].split(key)[1])))\n",
    "result = mergeFunction(result,reviewTabelMergeJoin,key)\n",
    "key = 'User'\n",
    "\n",
    "stop = timeit.default_timer()\n",
    "\n",
    "print('Time: ', stop - start)  \n",
    "\n",
    "### Just sorting the result Extra etep\n",
    "result = sorted(result, key =lambda element: (int(element[0].split(key)[1]),int(element[1].split(key)[1]),int(element[2].split(key)[1]),int(element[3].split('Product')[1]),int(element[4].split('Review')[1])))"
   ]
  },
  {
   "cell_type": "code",
   "execution_count": 7,
   "id": "c00159b8-76eb-4f95-9d16-ef3baf974e13",
   "metadata": {},
   "outputs": [
    {
     "name": "stdout",
     "output_type": "stream",
     "text": [
      "11415461\n"
     ]
    }
   ],
   "source": [
    "print(len(result))\n",
    "file = open(\"SortMergeJoin.txt\", \"w\")\n",
    "file.write(str(result))\n",
    "\n",
    "file.close()"
   ]
  },
  {
   "cell_type": "code",
   "execution_count": 8,
   "id": "6f1f72b3-b991-41ad-b832-3c45161fc5bf",
   "metadata": {},
   "outputs": [],
   "source": [
    "followTabelHashJoin = followTabel\n",
    "friendOfTabelHashJoin = friendOfTabel\n",
    "likesTabelHashJoin = likesTabel\n",
    "reviewTabelHashJoin = reviewTabel"
   ]
  },
  {
   "cell_type": "code",
   "execution_count": 9,
   "id": "d64e007c-4061-4f61-a1b8-484474b1f560",
   "metadata": {},
   "outputs": [],
   "source": [
    "import hashlib\n",
    "def makeHashFunction(table2):\n",
    "    hashDic = {}\n",
    "    for x in table2:\n",
    "        grpList=set()\n",
    "        hashvalue = hashlib.md5(x[0].encode('utf-8')).hexdigest()\n",
    "        \n",
    "        if hashlib.md5(x[0].encode('utf-8')).hexdigest() in hashDic:\n",
    "            grpList=hashDic[hashlib.md5(x[0].encode('utf-8')).hexdigest()]\n",
    "        grpList.add(x[1])\n",
    "        hashDic[hashlib.md5(x[0].encode('utf-8')).hexdigest()] = grpList\n",
    "    return hashDic\n",
    "\n",
    "def joinUsingHash(tabel1,hashFunction):\n",
    "    result = []\n",
    "    for table1Content in tabel1:\n",
    "        tabel1Subject = list(table1Content[0:len(table1Content)-1])\n",
    "        tabel1Object = table1Content[-1]\n",
    "        if (hashlib.md5(tabel1Object.encode('utf-8')).hexdigest() in hashFunction):\n",
    "            totalHashedValues = hashFunction[hashlib.md5(tabel1Object.encode('utf-8')).hexdigest()]\n",
    "            for values in totalHashedValues:\n",
    "                result.append(tuple(tabel1Subject+[tabel1Object]+[values]))\n",
    "    return result"
   ]
  },
  {
   "cell_type": "code",
   "execution_count": 10,
   "id": "717a3d71-3cea-4f1a-b459-6cae0ba9f6df",
   "metadata": {},
   "outputs": [
    {
     "name": "stdout",
     "output_type": "stream",
     "text": [
      "Time:  9.22100429999955\n"
     ]
    }
   ],
   "source": [
    "start = timeit.default_timer()\n",
    "\n",
    "hashTabelFriendOf = makeHashFunction(friendOfTabelHashJoin)\n",
    "result = joinUsingHash(followTabelHashJoin,hashTabelFriendOf)\n",
    "# print(len(result))\n",
    "hashTabelLikes = makeHashFunction(likesTabelHashJoin)\n",
    "result = joinUsingHash(result,hashTabelLikes)\n",
    "hashTabelReview = makeHashFunction(reviewTabelHashJoin)\n",
    "result = joinUsingHash(result,hashTabelReview)\n",
    "stop = timeit.default_timer()\n",
    "\n",
    "print('Time: ', stop - start)  "
   ]
  },
  {
   "cell_type": "code",
   "execution_count": 11,
   "id": "dea639f8-82e8-4836-9c03-136bd3f9bb52",
   "metadata": {},
   "outputs": [
    {
     "name": "stdout",
     "output_type": "stream",
     "text": [
      "11415461\n"
     ]
    }
   ],
   "source": [
    "result = set(result)\n",
    "print(len(result))\n",
    "file = open(\"HashJoin.txt\", \"w\")\n",
    "file.write(str(result))\n",
    "\n",
    "file.close()"
   ]
  },
  {
   "cell_type": "code",
   "execution_count": 20,
   "id": "9a9f00f0-a985-4c91-9f89-11f6f78c1f6b",
   "metadata": {},
   "outputs": [],
   "source": [
    "followTabelHashJoin = followTabel\n",
    "friendOfTabelHashJoin = friendOfTabel\n",
    "likesTabelHashJoin = likesTabel\n",
    "reviewTabelHashJoin = reviewTabel"
   ]
  },
  {
   "cell_type": "code",
   "execution_count": 21,
   "id": "e557180c-857e-4a7f-a356-4f662a0d343d",
   "metadata": {},
   "outputs": [],
   "source": [
    "def makeHashFunction(table2):\n",
    "    hashDic = {}\n",
    "    for x in table2:\n",
    "        grpList=set()\n",
    "        if hash(x[0]) in hashDic:\n",
    "            grpList=hashDic[hash(x[0])]\n",
    "        grpList.add(x[1])\n",
    "        hashDic[hash(x[0])] = grpList\n",
    "    return hashDic\n",
    "\n",
    "def joinUsingHash(tabel1,hashFunction):\n",
    "    result = []\n",
    "    for table1Content in tabel1:\n",
    "        tabel1Subject = list(table1Content[0:len(table1Content)-1])\n",
    "        tabel1Object = table1Content[-1]\n",
    "        if (hash(tabel1Object) in hashFunction):\n",
    "            totalHashedValues = hashFunction[hash(tabel1Object)]\n",
    "            for values in totalHashedValues:\n",
    "                result.append(tuple(tabel1Subject+[tabel1Object]+[values]))\n",
    "    return result"
   ]
  },
  {
   "cell_type": "code",
   "execution_count": 22,
   "id": "b26b592b-6292-4d43-abcd-b3340a47acd3",
   "metadata": {},
   "outputs": [
    {
     "name": "stdout",
     "output_type": "stream",
     "text": [
      "Time:  5.894130899998345\n"
     ]
    }
   ],
   "source": [
    "start = timeit.default_timer()\n",
    "\n",
    "hashTabelFriendOf = makeHashFunction(friendOfTabelHashJoin)\n",
    "# print(hashTabelFriendOf)\n",
    "result = joinUsingHash(followTabelHashJoin,hashTabelFriendOf)\n",
    "# print(len(result))\n",
    "hashTabelLikes = makeHashFunction(likesTabelHashJoin)\n",
    "result = joinUsingHash(result,hashTabelLikes)\n",
    "hashTabelReview = makeHashFunction(reviewTabelHashJoin)\n",
    "result = joinUsingHash(result,hashTabelReview)\n",
    "stop = timeit.default_timer()\n",
    "\n",
    "print('Time: ', stop - start)"
   ]
  },
  {
   "cell_type": "code",
   "execution_count": 23,
   "id": "59a6e0a0-4003-445b-b0c9-56f31cb32857",
   "metadata": {},
   "outputs": [
    {
     "name": "stdout",
     "output_type": "stream",
     "text": [
      "11415461\n"
     ]
    }
   ],
   "source": [
    "result = set(result)\n",
    "print(len(result))\n",
    "file = open(\"ModifiedHashJoin.txt\", \"w\")\n",
    "file.write(str(result))\n",
    "\n",
    "file.close()"
   ]
  },
  {
   "cell_type": "code",
   "execution_count": 24,
   "id": "079bc674-f14e-48f9-891f-bc80f2f470a0",
   "metadata": {},
   "outputs": [
    {
     "data": {
      "text/plain": [
       "'\\nSecond modified approach for 3rd part\\n'"
      ]
     },
     "execution_count": 24,
     "metadata": {},
     "output_type": "execute_result"
    }
   ],
   "source": [
    "'''\n",
    "Second modified approach for 3rd part\n",
    "'''"
   ]
  },
  {
   "cell_type": "code",
   "execution_count": 28,
   "id": "b1df315b-1c90-4ef3-a7f8-7862faca795a",
   "metadata": {},
   "outputs": [],
   "source": [
    "followTabelHashJoin = followTabel\n",
    "friendOfTabelHashJoin = friendOfTabel\n",
    "likesTabelHashJoin = likesTabel\n",
    "reviewTabelHashJoin = reviewTabel"
   ]
  },
  {
   "cell_type": "code",
   "execution_count": 29,
   "id": "d0ee0877-c4df-4570-93c5-8e7c654cda40",
   "metadata": {},
   "outputs": [],
   "source": [
    "def makeHashFunctionModified(table2,pos):\n",
    "    hashDic = {}\n",
    "    for x in table2:\n",
    "        grpList=set()\n",
    "        if hash(x[pos]) in hashDic:\n",
    "            grpList=hashDic[hash(x[pos])]\n",
    "        if pos==0:\n",
    "            grpList.add(x[1])\n",
    "        else:\n",
    "            grpList.add(x[0:])\n",
    "        hashDic[hash(x[pos])] = grpList\n",
    "    return hashDic\n",
    "\n",
    "def joinUsingHashModified(tabel1,hashFunction):\n",
    "    result = []\n",
    "    for table1Keys,table1Items in tabel1.items():\n",
    "        hashValue = table1Keys\n",
    "        if (hashValue in hashFunction):\n",
    "            for table1item in table1Items:\n",
    "                tabel1Subject = list(table1item[0:len(table1Items)-1])\n",
    "                tabel1Object = table1item[-1]\n",
    "                totalHashedValues = hashFunction[hashValue]\n",
    "                for values in totalHashedValues:\n",
    "                    result.append(tuple(tabel1Subject+[tabel1Object]+[values]))\n",
    "    return result"
   ]
  },
  {
   "cell_type": "code",
   "execution_count": 30,
   "id": "e590f503-35ec-4a4c-b5d6-5e7f8a84f256",
   "metadata": {},
   "outputs": [
    {
     "name": "stdout",
     "output_type": "stream",
     "text": [
      "Time:  7.995889100000568\n"
     ]
    }
   ],
   "source": [
    "start = timeit.default_timer()\n",
    "\n",
    "hashTabelFriendOf = makeHashFunctionModified(friendOfTabelHashJoin,0)\n",
    "followTabelHashJoin = makeHashFunctionModified(followTabelHashJoin,-1)\n",
    "result = joinUsingHashModified(followTabelHashJoin,hashTabelFriendOf)\n",
    "# print(result[0])\n",
    "hashTabelLikes = makeHashFunctionModified(likesTabelHashJoin,0)\n",
    "result = makeHashFunctionModified(result,-1)\n",
    "result = joinUsingHashModified(result,hashTabelLikes)\n",
    "\n",
    "\n",
    "hashTabelReview = makeHashFunctionModified(reviewTabelHashJoin,0)\n",
    "result = makeHashFunctionModified(result,-1)\n",
    "result = joinUsingHashModified(result,hashTabelReview)\n",
    "stop = timeit.default_timer()\n",
    "\n",
    "print('Time: ', stop - start) "
   ]
  },
  {
   "cell_type": "code",
   "execution_count": 31,
   "id": "d174242d-612a-41c3-8f10-19398f28b9f8",
   "metadata": {},
   "outputs": [
    {
     "name": "stdout",
     "output_type": "stream",
     "text": [
      "11415461\n"
     ]
    }
   ],
   "source": [
    "result = set(result)\n",
    "print(len(result))\n",
    "file = open(\"ModifiedDoubleHashedJoin.txt\", \"w\")\n",
    "file.write(str(result))\n",
    "\n",
    "file.close()"
   ]
  },
  {
   "cell_type": "code",
   "execution_count": 32,
   "id": "aaa9ad61-9321-45a7-9bd5-51e08eae5ccc",
   "metadata": {},
   "outputs": [
    {
     "data": {
      "text/plain": [
       "'\\nThird modified approach for 3rd part\\n'"
      ]
     },
     "execution_count": 32,
     "metadata": {},
     "output_type": "execute_result"
    }
   ],
   "source": [
    "'''\n",
    "Third modified approach for 3rd part\n",
    "'''"
   ]
  },
  {
   "cell_type": "code",
   "execution_count": 33,
   "id": "f023c1e6-7a00-4b1b-8db4-e5c3a41abfd0",
   "metadata": {},
   "outputs": [],
   "source": [
    "followTabelRadixJoin = followTabel\n",
    "friendOfTabelRadixJoin = friendOfTabel\n",
    "likesTabelRadixJoin = likesTabel\n",
    "reviewTabelRadixJoin = reviewTabel"
   ]
  },
  {
   "cell_type": "code",
   "execution_count": 34,
   "id": "beb826ad-f1ab-44ed-855a-75e246e237fc",
   "metadata": {},
   "outputs": [],
   "source": [
    "def radix_sort(nums,index,key):\n",
    "    RADIX = 10\n",
    "    placement = 1\n",
    "    max_digit = -1\n",
    "    count=0\n",
    "    for element in nums:\n",
    "        if(max_digit < int(element[index].split(key)[1])):\n",
    "            max_digit = int(element[index].split(key)[1])\n",
    "    \n",
    "    # print(max_digit)\n",
    "    while placement < max_digit:\n",
    "        buckets = [list() for _ in range( RADIX )]\n",
    "        for element in nums:\n",
    "            tmp = int((int(element[index].split(key)[1]) / placement) % RADIX)\n",
    "            buckets[tmp].append(element)\n",
    "        a = 0\n",
    "        for b in range( RADIX ):\n",
    "            buck = buckets[b]\n",
    "            for element in buck:\n",
    "                nums[a] = element\n",
    "                a += 1\n",
    "        placement *= RADIX\n",
    "    return nums"
   ]
  },
  {
   "cell_type": "code",
   "execution_count": 35,
   "id": "f2385d05-0800-403b-9cc0-2a23b661e7b8",
   "metadata": {},
   "outputs": [
    {
     "name": "stdout",
     "output_type": "stream",
     "text": [
      "1407868\n",
      "Time:  31.821846499999083\n"
     ]
    }
   ],
   "source": [
    "start = timeit.default_timer()\n",
    "\n",
    "key = 'User'\n",
    "followTabelRadixJoin=radix_sort(followTabelRadixJoin,-1, key)\n",
    "friendOfTabelRadixJoin = radix_sort(friendOfTabelRadixJoin,0, key)\n",
    "likesTabelRadixJoin = radix_sort(likesTabelRadixJoin,0,key)\n",
    "key = 'Product'\n",
    "reviewTabelRadixJoin = radix_sort(reviewTabelRadixJoin,0, key)\n",
    "\n",
    "\n",
    "key = 'User'\n",
    "result = mergeFunction(followTabelMergeJoin,friendOfTabelMergeJoin,key)\n",
    "result = radix_sort(result,-1, key)\n",
    "print(len(result))\n",
    "### Merge Step for (friendOfTabel,followTable) and likesTabel\n",
    "result = mergeFunction(result,likesTabelMergeJoin,key)\n",
    "key = 'Product'\n",
    "### Merge Step for (friendOfTabel,followTable,likesTabel) and reviewTabel\n",
    "result = radix_sort(result,-1, key)\n",
    "result = mergeFunction(result,reviewTabelMergeJoin,key)\n",
    "key = 'User'\n",
    "\n",
    "stop = timeit.default_timer()\n",
    "\n",
    "print('Time: ', stop - start)  \n",
    "\n",
    "### Just sorting the result Extra etep\n",
    "result = sorted(result, key =lambda element: (int(element[0].split(key)[1]),int(element[1].split(key)[1]),int(element[2].split(key)[1]),int(element[3].split('Product')[1]),int(element[4].split('Review')[1])))"
   ]
  },
  {
   "cell_type": "code",
   "execution_count": 36,
   "id": "1a32f423-15d5-4267-bbf7-5d9f5f4d39dc",
   "metadata": {},
   "outputs": [
    {
     "name": "stdout",
     "output_type": "stream",
     "text": [
      "11415461\n"
     ]
    }
   ],
   "source": [
    "result = set(result)\n",
    "print(len(result))\n",
    "file = open(\"RadixJoin.txt\", \"w\")\n",
    "file.write(str(result))\n",
    "\n",
    "file.close()"
   ]
  },
  {
   "cell_type": "code",
   "execution_count": null,
   "id": "f9aa98ca-3aae-4899-926f-b712f4fab8be",
   "metadata": {},
   "outputs": [],
   "source": []
  },
  {
   "cell_type": "code",
   "execution_count": 37,
   "id": "9526c19d-5532-4979-8fe7-b6a6122f6022",
   "metadata": {},
   "outputs": [
    {
     "data": {
      "text/plain": [
       "'\\nFourth modified approach for 3rd part\\n'"
      ]
     },
     "execution_count": 37,
     "metadata": {},
     "output_type": "execute_result"
    }
   ],
   "source": [
    "'''\n",
    "Fourth modified approach for 3rd part\n",
    "'''"
   ]
  },
  {
   "cell_type": "code",
   "execution_count": null,
   "id": "b6c70d73-d600-41c6-ad88-7aff31e721b2",
   "metadata": {},
   "outputs": [],
   "source": []
  },
  {
   "cell_type": "code",
   "execution_count": 38,
   "id": "b5fced8e-d72d-4b5c-ac97-868f509327b1",
   "metadata": {},
   "outputs": [],
   "source": [
    "followTabelHashJoin = followTabel\n",
    "friendOfTabelHashJoin = friendOfTabel\n",
    "likesTabelHashJoin = likesTabel\n",
    "reviewTabelHashJoin = reviewTabel"
   ]
  },
  {
   "cell_type": "code",
   "execution_count": 39,
   "id": "7c51429a-8410-4aa0-9f32-7832c56948bc",
   "metadata": {},
   "outputs": [],
   "source": [
    "def makeParallelHashFunction(table2,index):\n",
    "    hashDic = {}\n",
    "    for x in table2:\n",
    "        grpList=set()\n",
    "        if hash(x[index]) in hashDic:\n",
    "            grpList=hashDic[hash(x[index])]\n",
    "        if(index==0):\n",
    "            grpList.add(x[1])\n",
    "        else:\n",
    "            grpList.add(x[0:])\n",
    "        hashDic[hash(x[index])] = grpList\n",
    "    return hashDic\n",
    "\n",
    "def parallelJoinUsingHash(tabel1,table2):\n",
    "    result = []\n",
    "    for table1Content in tabel1:\n",
    "        for table2Content in table2:\n",
    "            result.append(tuple(list(table1Content)+list(table2Content)))\n",
    "    return result"
   ]
  },
  {
   "cell_type": "code",
   "execution_count": 40,
   "id": "3ecedd15-7457-472e-a44d-2ea0a603fef2",
   "metadata": {},
   "outputs": [
    {
     "ename": "TypeError",
     "evalue": "__main__.makeParallelHashFunction() argument after ** must be a mapping, not int",
     "output_type": "error",
     "traceback": [
      "\u001b[0;31m---------------------------------------------------------------------------\u001b[0m",
      "\u001b[0;31mRemoteTraceback\u001b[0m                           Traceback (most recent call last)",
      "\u001b[0;31mRemoteTraceback\u001b[0m: \n\"\"\"\nTraceback (most recent call last):\n  File \"/opt/conda/lib/python3.10/multiprocessing/pool.py\", line 125, in worker\n    result = (True, func(*args, **kwds))\nTypeError: __main__.makeParallelHashFunction() argument after ** must be a mapping, not int\n\"\"\"",
      "\nThe above exception was the direct cause of the following exception:\n",
      "\u001b[0;31mTypeError\u001b[0m                                 Traceback (most recent call last)",
      "Input \u001b[0;32mIn [40]\u001b[0m, in \u001b[0;36m<cell line: 10>\u001b[0;34m()\u001b[0m\n\u001b[1;32m      7\u001b[0m \u001b[38;5;66;03m# hashTabelfollowTabel = makeParallelHashFunction(followTabelHashJoin)\u001b[39;00m\n\u001b[1;32m      8\u001b[0m result2 \u001b[38;5;241m=\u001b[39m pool\u001b[38;5;241m.\u001b[39mapply_async(makeParallelHashFunction, followTabelHashJoin, \u001b[38;5;241m-\u001b[39m\u001b[38;5;241m1\u001b[39m)\n\u001b[0;32m---> 10\u001b[0m hashTabelFriendOf \u001b[38;5;241m=\u001b[39m \u001b[43mresult1\u001b[49m\u001b[38;5;241;43m.\u001b[39;49m\u001b[43mget\u001b[49m\u001b[43m(\u001b[49m\u001b[43mtimeout\u001b[49m\u001b[43m \u001b[49m\u001b[38;5;241;43m=\u001b[39;49m\u001b[43m \u001b[49m\u001b[38;5;241;43m10\u001b[39;49m\u001b[43m)\u001b[49m\n\u001b[1;32m     12\u001b[0m hashTabelfollowTabel \u001b[38;5;241m=\u001b[39m result2\u001b[38;5;241m.\u001b[39mget(timeout \u001b[38;5;241m=\u001b[39m \u001b[38;5;241m10\u001b[39m)\n\u001b[1;32m     13\u001b[0m \u001b[38;5;66;03m# result=[]\u001b[39;00m\n\u001b[1;32m     14\u001b[0m \u001b[38;5;66;03m# for key,value in hashTabelFriendOf.items():\u001b[39;00m\n\u001b[1;32m     15\u001b[0m \u001b[38;5;66;03m#     count=0\u001b[39;00m\n\u001b[0;32m   (...)\u001b[0m\n\u001b[1;32m     22\u001b[0m \u001b[38;5;66;03m# hashTabelReview = makeHashFunction(reviewTabelHashJoin)\u001b[39;00m\n\u001b[1;32m     23\u001b[0m \u001b[38;5;66;03m# result = joinUsingHash(result,hashTabelReview)\u001b[39;00m\n",
      "File \u001b[0;32m/opt/conda/lib/python3.10/multiprocessing/pool.py:771\u001b[0m, in \u001b[0;36mApplyResult.get\u001b[0;34m(self, timeout)\u001b[0m\n\u001b[1;32m    769\u001b[0m     \u001b[38;5;28;01mreturn\u001b[39;00m \u001b[38;5;28mself\u001b[39m\u001b[38;5;241m.\u001b[39m_value\n\u001b[1;32m    770\u001b[0m \u001b[38;5;28;01melse\u001b[39;00m:\n\u001b[0;32m--> 771\u001b[0m     \u001b[38;5;28;01mraise\u001b[39;00m \u001b[38;5;28mself\u001b[39m\u001b[38;5;241m.\u001b[39m_value\n",
      "\u001b[0;31mTypeError\u001b[0m: __main__.makeParallelHashFunction() argument after ** must be a mapping, not int"
     ]
    }
   ],
   "source": [
    "from multiprocessing import Pool\n",
    "pool = Pool()\n",
    "start = timeit.default_timer()\n",
    "\n",
    "# hashTabelFriendOf = makeParallelHashFunction(friendOfTabelHashJoin)\n",
    "result1 = pool.apply_async(makeParallelHashFunction, friendOfTabelHashJoin, 0)\n",
    "# hashTabelfollowTabel = makeParallelHashFunction(followTabelHashJoin)\n",
    "result2 = pool.apply_async(makeParallelHashFunction, followTabelHashJoin, -1)\n",
    "\n",
    "hashTabelFriendOf = result1.get(timeout = 10)\n",
    "\n",
    "hashTabelfollowTabel = result2.get(timeout = 10)\n",
    "# result=[]\n",
    "# for key,value in hashTabelFriendOf.items():\n",
    "#     count=0\n",
    "#     result.add(pool.apply_async(parallelJoinUsingHash,hashTabelfollowTabel,hashTabelFriendOf).get(timeout = 10))\n",
    "#     count=count+1\n",
    "\n",
    "# print(len(result))\n",
    "# hashTabelLikes = makeHashFunction(likesTabelHashJoin)\n",
    "# result = joinUsingHash(result,hashTabelLikes)\n",
    "# hashTabelReview = makeHashFunction(reviewTabelHashJoin)\n",
    "# result = joinUsingHash(result,hashTabelReview)\n",
    "stop = timeit.default_timer()\n",
    "\n",
    "print('Time: ', stop - start)  "
   ]
  },
  {
   "cell_type": "code",
   "execution_count": null,
   "id": "cccea112-66c0-4c1b-a721-cd163d895066",
   "metadata": {},
   "outputs": [],
   "source": []
  }
 ],
 "metadata": {
  "kernelspec": {
   "display_name": "Python 3 (ipykernel)",
   "language": "python",
   "name": "python3"
  },
  "language_info": {
   "codemirror_mode": {
    "name": "ipython",
    "version": 3
   },
   "file_extension": ".py",
   "mimetype": "text/x-python",
   "name": "python",
   "nbconvert_exporter": "python",
   "pygments_lexer": "ipython3",
   "version": "3.10.5"
  }
 },
 "nbformat": 4,
 "nbformat_minor": 5
}
